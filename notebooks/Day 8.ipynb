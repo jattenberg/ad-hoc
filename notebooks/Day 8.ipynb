{
 "cells": [
  {
   "cell_type": "markdown",
   "id": "6f04dda8",
   "metadata": {},
   "source": [
    "# Puzzle 8\n",
    "\n",
    "“Oh that damned woman! She moved in, clogged my bathtub, spilled oatmeal all over the kitchen, and then just vanished one night without leaving so much as a note. Well except she did leave behind that tapestry. We spent much of our time together cleaning one filthy area, only to reveal a snake hiding in the branches!\n",
    "\n",
    "“I left it on my wall hoping she would come back for it, but eventually I accepted that I had to move on.\n",
    "\n",
    "“I don’t have any storage here, and it didn’t seem right to sell it, so I gave it to my sister who lives in Manhattan. She wound up getting a newer and more expensive rug, so she gave it to an acquaintance of hers who collects all sorts of junk. Apparently he owns an entire set of Noah’s collectibles! He probably still has the rug, even.\n",
    "\n",
    "“My sister is away for the holidays, but I can have her call you in a few weeks.”\n",
    "\n",
    "The family dinner is tonight! Can you find the collector’s phone number in time?"
   ]
  },
  {
   "cell_type": "code",
   "execution_count": 1,
   "id": "370d2133",
   "metadata": {},
   "outputs": [],
   "source": [
    "import pandas as pd\n",
    "from matplotlib import pyplot as plt\n",
    "import os\n",
    "from nameparser import HumanName\n",
    "import datetime as dt"
   ]
  },
  {
   "cell_type": "code",
   "execution_count": 2,
   "id": "4b4121f9",
   "metadata": {},
   "outputs": [],
   "source": [
    "dir = \"/Users/jattenberg/Downloads/noahs-csv/\"\n",
    "files = os.listdir(dir)\n",
    "names = [n.split(\".\")[0] for n in files]\n",
    "dataframe_arr = [pd.read_csv(dir+f) for f in files]\n",
    "\n",
    "dfs = dict(zip(names, dataframe_arr))"
   ]
  },
  {
   "cell_type": "code",
   "execution_count": 3,
   "id": "b275d4ea",
   "metadata": {},
   "outputs": [],
   "source": [
    "products = dfs[\"noahs-products\"]\n",
    "order_items = dfs[\"noahs-orders_items\"]\n",
    "orders = dfs[\"noahs-orders\"]\n",
    "customers = dfs[\"noahs-customers\"]\n",
    "\n",
    "fully_denormalized = (\n",
    "    customers.merge(orders, on=\"customerid\")\n",
    "        .merge(order_items, on=\"orderid\")\n",
    "        .merge(products, on=\"sku\")\n",
    ")"
   ]
  },
  {
   "cell_type": "code",
   "execution_count": 7,
   "id": "574d477b",
   "metadata": {},
   "outputs": [],
   "source": [
    "merch_orders = fully_denormalized[fully_denormalized.desc.str.contains(\"Noah\", case=False)]"
   ]
  },
  {
   "cell_type": "code",
   "execution_count": 10,
   "id": "846e2ab9",
   "metadata": {},
   "outputs": [
    {
     "data": {
      "text/html": [
       "<div>\n",
       "<style scoped>\n",
       "    .dataframe tbody tr th:only-of-type {\n",
       "        vertical-align: middle;\n",
       "    }\n",
       "\n",
       "    .dataframe tbody tr th {\n",
       "        vertical-align: top;\n",
       "    }\n",
       "\n",
       "    .dataframe thead th {\n",
       "        text-align: right;\n",
       "    }\n",
       "</style>\n",
       "<table border=\"1\" class=\"dataframe\">\n",
       "  <thead>\n",
       "    <tr style=\"text-align: right;\">\n",
       "      <th></th>\n",
       "      <th>phone</th>\n",
       "      <th>merch_items</th>\n",
       "    </tr>\n",
       "  </thead>\n",
       "  <tbody>\n",
       "    <tr>\n",
       "      <th>3847</th>\n",
       "      <td>929-906-5980</td>\n",
       "      <td>232</td>\n",
       "    </tr>\n",
       "  </tbody>\n",
       "</table>\n",
       "</div>"
      ],
      "text/plain": [
       "             phone  merch_items\n",
       "3847  929-906-5980          232"
      ]
     },
     "execution_count": 10,
     "metadata": {},
     "output_type": "execute_result"
    }
   ],
   "source": [
    "merch_orders.groupby(\"phone\").orderid.count().to_frame().reset_index().rename({\"orderid\": \"merch_items\"}, axis=1).sort_values(\"merch_items\", ascending=False).head(1)"
   ]
  },
  {
   "cell_type": "code",
   "execution_count": null,
   "id": "28972c32",
   "metadata": {},
   "outputs": [],
   "source": []
  }
 ],
 "metadata": {
  "kernelspec": {
   "display_name": "Python 3 (ipykernel)",
   "language": "python",
   "name": "python3"
  },
  "language_info": {
   "codemirror_mode": {
    "name": "ipython",
    "version": 3
   },
   "file_extension": ".py",
   "mimetype": "text/x-python",
   "name": "python",
   "nbconvert_exporter": "python",
   "pygments_lexer": "ipython3",
   "version": "3.8.13"
  }
 },
 "nbformat": 4,
 "nbformat_minor": 5
}
